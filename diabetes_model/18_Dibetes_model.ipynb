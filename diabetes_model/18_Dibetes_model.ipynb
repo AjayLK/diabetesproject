{
 "cells": [
  {
   "cell_type": "markdown",
   "id": "1881350a",
   "metadata": {},
   "source": [
    "# 18_Dibetes_model"
   ]
  },
  {
   "cell_type": "code",
   "execution_count": 1,
   "id": "c21734e0",
   "metadata": {},
   "outputs": [],
   "source": [
    "import numpy as np\n",
    "import pandas as pd\n",
    "\n",
    "from sklearn.linear_model import LogisticRegression\n",
    "from sklearn.model_selection import train_test_split\n",
    "\n",
    "from sklearn.metrics import confusion_matrix, classification_report, accuracy_score\n",
    "from sklearn.metrics import precision_score, recall_score, f1_score\n",
    "from sklearn.metrics import plot_confusion_matrix\n",
    "from sklearn.metrics import roc_curve\n",
    "\n",
    "import matplotlib.pyplot as plt\n",
    "import seaborn as sns\n",
    "\n",
    "import warnings\n",
    "warnings.filterwarnings(\"ignore\")"
   ]
  },
  {
   "cell_type": "markdown",
   "id": "2f6d50da",
   "metadata": {},
   "source": [
    "# Problem Statement"
   ]
  },
  {
   "cell_type": "raw",
   "id": "5b8e5579",
   "metadata": {},
   "source": [
    "To predict whether it is dibetes or no dibetes by using various contains"
   ]
  },
  {
   "cell_type": "markdown",
   "id": "52bebc39",
   "metadata": {},
   "source": [
    "# Data Gathering"
   ]
  },
  {
   "cell_type": "code",
   "execution_count": 2,
   "id": "2268ec61",
   "metadata": {},
   "outputs": [
    {
     "data": {
      "text/html": [
       "<div>\n",
       "<style scoped>\n",
       "    .dataframe tbody tr th:only-of-type {\n",
       "        vertical-align: middle;\n",
       "    }\n",
       "\n",
       "    .dataframe tbody tr th {\n",
       "        vertical-align: top;\n",
       "    }\n",
       "\n",
       "    .dataframe thead th {\n",
       "        text-align: right;\n",
       "    }\n",
       "</style>\n",
       "<table border=\"1\" class=\"dataframe\">\n",
       "  <thead>\n",
       "    <tr style=\"text-align: right;\">\n",
       "      <th></th>\n",
       "      <th>Glucose</th>\n",
       "      <th>BloodPressure</th>\n",
       "      <th>SkinThickness</th>\n",
       "      <th>Insulin</th>\n",
       "      <th>BMI</th>\n",
       "      <th>DiabetesPedigreeFunction</th>\n",
       "      <th>Age</th>\n",
       "      <th>Outcome</th>\n",
       "    </tr>\n",
       "  </thead>\n",
       "  <tbody>\n",
       "    <tr>\n",
       "      <th>0</th>\n",
       "      <td>148</td>\n",
       "      <td>50</td>\n",
       "      <td>35</td>\n",
       "      <td>0</td>\n",
       "      <td>33.6</td>\n",
       "      <td>0.627</td>\n",
       "      <td>50</td>\n",
       "      <td>1</td>\n",
       "    </tr>\n",
       "    <tr>\n",
       "      <th>1</th>\n",
       "      <td>85</td>\n",
       "      <td>66</td>\n",
       "      <td>29</td>\n",
       "      <td>0</td>\n",
       "      <td>26.6</td>\n",
       "      <td>0.351</td>\n",
       "      <td>31</td>\n",
       "      <td>0</td>\n",
       "    </tr>\n",
       "    <tr>\n",
       "      <th>2</th>\n",
       "      <td>183</td>\n",
       "      <td>64</td>\n",
       "      <td>0</td>\n",
       "      <td>0</td>\n",
       "      <td>23.3</td>\n",
       "      <td>0.672</td>\n",
       "      <td>52</td>\n",
       "      <td>1</td>\n",
       "    </tr>\n",
       "    <tr>\n",
       "      <th>3</th>\n",
       "      <td>150</td>\n",
       "      <td>66</td>\n",
       "      <td>23</td>\n",
       "      <td>94</td>\n",
       "      <td>28.1</td>\n",
       "      <td>0.167</td>\n",
       "      <td>21</td>\n",
       "      <td>0</td>\n",
       "    </tr>\n",
       "    <tr>\n",
       "      <th>4</th>\n",
       "      <td>150</td>\n",
       "      <td>40</td>\n",
       "      <td>35</td>\n",
       "      <td>168</td>\n",
       "      <td>43.1</td>\n",
       "      <td>2.288</td>\n",
       "      <td>33</td>\n",
       "      <td>1</td>\n",
       "    </tr>\n",
       "    <tr>\n",
       "      <th>...</th>\n",
       "      <td>...</td>\n",
       "      <td>...</td>\n",
       "      <td>...</td>\n",
       "      <td>...</td>\n",
       "      <td>...</td>\n",
       "      <td>...</td>\n",
       "      <td>...</td>\n",
       "      <td>...</td>\n",
       "    </tr>\n",
       "    <tr>\n",
       "      <th>763</th>\n",
       "      <td>101</td>\n",
       "      <td>76</td>\n",
       "      <td>48</td>\n",
       "      <td>180</td>\n",
       "      <td>32.9</td>\n",
       "      <td>0.171</td>\n",
       "      <td>63</td>\n",
       "      <td>0</td>\n",
       "    </tr>\n",
       "    <tr>\n",
       "      <th>764</th>\n",
       "      <td>122</td>\n",
       "      <td>70</td>\n",
       "      <td>27</td>\n",
       "      <td>0</td>\n",
       "      <td>36.8</td>\n",
       "      <td>0.340</td>\n",
       "      <td>27</td>\n",
       "      <td>0</td>\n",
       "    </tr>\n",
       "    <tr>\n",
       "      <th>765</th>\n",
       "      <td>121</td>\n",
       "      <td>72</td>\n",
       "      <td>23</td>\n",
       "      <td>112</td>\n",
       "      <td>26.2</td>\n",
       "      <td>0.245</td>\n",
       "      <td>30</td>\n",
       "      <td>0</td>\n",
       "    </tr>\n",
       "    <tr>\n",
       "      <th>766</th>\n",
       "      <td>126</td>\n",
       "      <td>60</td>\n",
       "      <td>0</td>\n",
       "      <td>0</td>\n",
       "      <td>30.1</td>\n",
       "      <td>0.349</td>\n",
       "      <td>47</td>\n",
       "      <td>1</td>\n",
       "    </tr>\n",
       "    <tr>\n",
       "      <th>767</th>\n",
       "      <td>93</td>\n",
       "      <td>70</td>\n",
       "      <td>31</td>\n",
       "      <td>0</td>\n",
       "      <td>30.4</td>\n",
       "      <td>0.315</td>\n",
       "      <td>23</td>\n",
       "      <td>0</td>\n",
       "    </tr>\n",
       "  </tbody>\n",
       "</table>\n",
       "<p>768 rows × 8 columns</p>\n",
       "</div>"
      ],
      "text/plain": [
       "     Glucose  BloodPressure  SkinThickness  Insulin   BMI  \\\n",
       "0        148             50             35        0  33.6   \n",
       "1         85             66             29        0  26.6   \n",
       "2        183             64              0        0  23.3   \n",
       "3        150             66             23       94  28.1   \n",
       "4        150             40             35      168  43.1   \n",
       "..       ...            ...            ...      ...   ...   \n",
       "763      101             76             48      180  32.9   \n",
       "764      122             70             27        0  36.8   \n",
       "765      121             72             23      112  26.2   \n",
       "766      126             60              0        0  30.1   \n",
       "767       93             70             31        0  30.4   \n",
       "\n",
       "     DiabetesPedigreeFunction  Age  Outcome  \n",
       "0                       0.627   50        1  \n",
       "1                       0.351   31        0  \n",
       "2                       0.672   52        1  \n",
       "3                       0.167   21        0  \n",
       "4                       2.288   33        1  \n",
       "..                        ...  ...      ...  \n",
       "763                     0.171   63        0  \n",
       "764                     0.340   27        0  \n",
       "765                     0.245   30        0  \n",
       "766                     0.349   47        1  \n",
       "767                     0.315   23        0  \n",
       "\n",
       "[768 rows x 8 columns]"
      ]
     },
     "execution_count": 2,
     "metadata": {},
     "output_type": "execute_result"
    }
   ],
   "source": [
    "df = pd.read_csv(\"diabetes.csv\")\n",
    "df"
   ]
  },
  {
   "cell_type": "code",
   "execution_count": 3,
   "id": "87af46ab",
   "metadata": {},
   "outputs": [
    {
     "name": "stdout",
     "output_type": "stream",
     "text": [
      "<class 'pandas.core.frame.DataFrame'>\n",
      "RangeIndex: 768 entries, 0 to 767\n",
      "Data columns (total 8 columns):\n",
      " #   Column                    Non-Null Count  Dtype  \n",
      "---  ------                    --------------  -----  \n",
      " 0   Glucose                   768 non-null    int64  \n",
      " 1   BloodPressure             768 non-null    int64  \n",
      " 2   SkinThickness             768 non-null    int64  \n",
      " 3   Insulin                   768 non-null    int64  \n",
      " 4   BMI                       768 non-null    float64\n",
      " 5   DiabetesPedigreeFunction  768 non-null    float64\n",
      " 6   Age                       768 non-null    int64  \n",
      " 7   Outcome                   768 non-null    int64  \n",
      "dtypes: float64(2), int64(6)\n",
      "memory usage: 48.1 KB\n"
     ]
    }
   ],
   "source": [
    "df.info()"
   ]
  },
  {
   "cell_type": "code",
   "execution_count": 4,
   "id": "c2247c22",
   "metadata": {},
   "outputs": [
    {
     "data": {
      "text/plain": [
       "Glucose                     0\n",
       "BloodPressure               0\n",
       "SkinThickness               0\n",
       "Insulin                     0\n",
       "BMI                         0\n",
       "DiabetesPedigreeFunction    0\n",
       "Age                         0\n",
       "Outcome                     0\n",
       "dtype: int64"
      ]
     },
     "execution_count": 4,
     "metadata": {},
     "output_type": "execute_result"
    }
   ],
   "source": [
    "df.isna().sum()"
   ]
  },
  {
   "cell_type": "markdown",
   "id": "2867ef2c",
   "metadata": {},
   "source": [
    "# Exporatory Data Analysis"
   ]
  },
  {
   "cell_type": "markdown",
   "id": "c4dfee99",
   "metadata": {},
   "source": [
    "### Glucose"
   ]
  },
  {
   "cell_type": "code",
   "execution_count": 5,
   "id": "e9cd9da2",
   "metadata": {},
   "outputs": [
    {
     "data": {
      "text/plain": [
       "0      148\n",
       "1       85\n",
       "2      183\n",
       "3      150\n",
       "4      150\n",
       "      ... \n",
       "763    101\n",
       "764    122\n",
       "765    121\n",
       "766    126\n",
       "767     93\n",
       "Name: Glucose, Length: 768, dtype: int64"
      ]
     },
     "execution_count": 5,
     "metadata": {},
     "output_type": "execute_result"
    }
   ],
   "source": [
    "df['Glucose']"
   ]
  },
  {
   "cell_type": "code",
   "execution_count": 6,
   "id": "ba145470",
   "metadata": {},
   "outputs": [
    {
     "data": {
      "text/plain": [
       "100    17\n",
       "99     17\n",
       "150    15\n",
       "106    14\n",
       "129    14\n",
       "       ..\n",
       "44      1\n",
       "177     1\n",
       "191     1\n",
       "61      1\n",
       "190     1\n",
       "Name: Glucose, Length: 136, dtype: int64"
      ]
     },
     "execution_count": 6,
     "metadata": {},
     "output_type": "execute_result"
    }
   ],
   "source": [
    "df['Glucose'].value_counts()"
   ]
  },
  {
   "cell_type": "markdown",
   "id": "0a1c17c3",
   "metadata": {},
   "source": [
    "### BloodPressure"
   ]
  },
  {
   "cell_type": "code",
   "execution_count": 7,
   "id": "4f906f25",
   "metadata": {},
   "outputs": [
    {
     "data": {
      "text/plain": [
       "0      50\n",
       "1      66\n",
       "2      64\n",
       "3      66\n",
       "4      40\n",
       "       ..\n",
       "763    76\n",
       "764    70\n",
       "765    72\n",
       "766    60\n",
       "767    70\n",
       "Name: BloodPressure, Length: 768, dtype: int64"
      ]
     },
     "execution_count": 7,
     "metadata": {},
     "output_type": "execute_result"
    }
   ],
   "source": [
    "df['BloodPressure']"
   ]
  },
  {
   "cell_type": "code",
   "execution_count": 8,
   "id": "527ea296",
   "metadata": {},
   "outputs": [
    {
     "data": {
      "text/plain": [
       "70     57\n",
       "74     52\n",
       "78     45\n",
       "68     45\n",
       "64     43\n",
       "72     43\n",
       "80     40\n",
       "76     39\n",
       "60     37\n",
       "0      35\n",
       "62     34\n",
       "66     30\n",
       "82     30\n",
       "88     25\n",
       "84     23\n",
       "90     22\n",
       "58     21\n",
       "86     21\n",
       "50     14\n",
       "56     12\n",
       "52     11\n",
       "54     11\n",
       "75      8\n",
       "92      8\n",
       "65      7\n",
       "85      6\n",
       "94      6\n",
       "48      5\n",
       "96      4\n",
       "44      4\n",
       "100     3\n",
       "106     3\n",
       "98      3\n",
       "110     3\n",
       "55      2\n",
       "108     2\n",
       "104     2\n",
       "46      2\n",
       "30      2\n",
       "122     1\n",
       "95      1\n",
       "102     1\n",
       "61      1\n",
       "24      1\n",
       "38      1\n",
       "40      1\n",
       "114     1\n",
       "Name: BloodPressure, dtype: int64"
      ]
     },
     "execution_count": 8,
     "metadata": {},
     "output_type": "execute_result"
    }
   ],
   "source": [
    "df['BloodPressure'].value_counts()"
   ]
  },
  {
   "cell_type": "markdown",
   "id": "9d0408a9",
   "metadata": {},
   "source": [
    "### SkinThickness"
   ]
  },
  {
   "cell_type": "code",
   "execution_count": 9,
   "id": "feadf0bc",
   "metadata": {},
   "outputs": [
    {
     "data": {
      "text/plain": [
       "0      35\n",
       "1      29\n",
       "2       0\n",
       "3      23\n",
       "4      35\n",
       "       ..\n",
       "763    48\n",
       "764    27\n",
       "765    23\n",
       "766     0\n",
       "767    31\n",
       "Name: SkinThickness, Length: 768, dtype: int64"
      ]
     },
     "execution_count": 9,
     "metadata": {},
     "output_type": "execute_result"
    }
   ],
   "source": [
    "df['SkinThickness']"
   ]
  },
  {
   "cell_type": "code",
   "execution_count": 10,
   "id": "1780cf3f",
   "metadata": {},
   "outputs": [
    {
     "data": {
      "text/plain": [
       "0     227\n",
       "32     31\n",
       "30     27\n",
       "27     23\n",
       "23     22\n",
       "33     20\n",
       "28     20\n",
       "18     20\n",
       "31     19\n",
       "19     18\n",
       "39     18\n",
       "29     17\n",
       "40     16\n",
       "25     16\n",
       "26     16\n",
       "22     16\n",
       "37     16\n",
       "41     15\n",
       "35     15\n",
       "36     14\n",
       "15     14\n",
       "17     14\n",
       "20     13\n",
       "24     12\n",
       "42     11\n",
       "13     11\n",
       "21     10\n",
       "46      8\n",
       "34      8\n",
       "12      7\n",
       "38      7\n",
       "11      6\n",
       "43      6\n",
       "16      6\n",
       "45      6\n",
       "14      6\n",
       "44      5\n",
       "10      5\n",
       "48      4\n",
       "47      4\n",
       "49      3\n",
       "50      3\n",
       "8       2\n",
       "7       2\n",
       "52      2\n",
       "54      2\n",
       "63      1\n",
       "60      1\n",
       "56      1\n",
       "51      1\n",
       "99      1\n",
       "Name: SkinThickness, dtype: int64"
      ]
     },
     "execution_count": 10,
     "metadata": {},
     "output_type": "execute_result"
    }
   ],
   "source": [
    "df['SkinThickness'].value_counts()"
   ]
  },
  {
   "cell_type": "markdown",
   "id": "3e653086",
   "metadata": {},
   "source": [
    "### Insulin"
   ]
  },
  {
   "cell_type": "code",
   "execution_count": 11,
   "id": "3c7e151d",
   "metadata": {},
   "outputs": [
    {
     "data": {
      "text/plain": [
       "0        0\n",
       "1        0\n",
       "2        0\n",
       "3       94\n",
       "4      168\n",
       "      ... \n",
       "763    180\n",
       "764      0\n",
       "765    112\n",
       "766      0\n",
       "767      0\n",
       "Name: Insulin, Length: 768, dtype: int64"
      ]
     },
     "execution_count": 11,
     "metadata": {},
     "output_type": "execute_result"
    }
   ],
   "source": [
    "df['Insulin']"
   ]
  },
  {
   "cell_type": "code",
   "execution_count": 12,
   "id": "02e76118",
   "metadata": {},
   "outputs": [
    {
     "data": {
      "text/plain": [
       "0      374\n",
       "105     11\n",
       "130      9\n",
       "140      9\n",
       "120      8\n",
       "      ... \n",
       "73       1\n",
       "171      1\n",
       "255      1\n",
       "52       1\n",
       "112      1\n",
       "Name: Insulin, Length: 186, dtype: int64"
      ]
     },
     "execution_count": 12,
     "metadata": {},
     "output_type": "execute_result"
    }
   ],
   "source": [
    "df['Insulin'].value_counts()"
   ]
  },
  {
   "cell_type": "markdown",
   "id": "819ccfca",
   "metadata": {},
   "source": [
    "### BMI"
   ]
  },
  {
   "cell_type": "code",
   "execution_count": 13,
   "id": "5bf984fd",
   "metadata": {},
   "outputs": [
    {
     "data": {
      "text/plain": [
       "0      33.6\n",
       "1      26.6\n",
       "2      23.3\n",
       "3      28.1\n",
       "4      43.1\n",
       "       ... \n",
       "763    32.9\n",
       "764    36.8\n",
       "765    26.2\n",
       "766    30.1\n",
       "767    30.4\n",
       "Name: BMI, Length: 768, dtype: float64"
      ]
     },
     "execution_count": 13,
     "metadata": {},
     "output_type": "execute_result"
    }
   ],
   "source": [
    "df['BMI']"
   ]
  },
  {
   "cell_type": "code",
   "execution_count": 14,
   "id": "b5a4ae6b",
   "metadata": {},
   "outputs": [
    {
     "data": {
      "text/plain": [
       "32.0    13\n",
       "31.6    12\n",
       "31.2    12\n",
       "0.0     11\n",
       "32.4    10\n",
       "        ..\n",
       "36.7     1\n",
       "41.8     1\n",
       "42.6     1\n",
       "42.8     1\n",
       "46.3     1\n",
       "Name: BMI, Length: 248, dtype: int64"
      ]
     },
     "execution_count": 14,
     "metadata": {},
     "output_type": "execute_result"
    }
   ],
   "source": [
    "df['BMI'].value_counts()"
   ]
  },
  {
   "cell_type": "markdown",
   "id": "3652611c",
   "metadata": {},
   "source": [
    "### DiabetesPedigreeFunction"
   ]
  },
  {
   "cell_type": "code",
   "execution_count": 15,
   "id": "69e15766",
   "metadata": {},
   "outputs": [
    {
     "data": {
      "text/plain": [
       "0      0.627\n",
       "1      0.351\n",
       "2      0.672\n",
       "3      0.167\n",
       "4      2.288\n",
       "       ...  \n",
       "763    0.171\n",
       "764    0.340\n",
       "765    0.245\n",
       "766    0.349\n",
       "767    0.315\n",
       "Name: DiabetesPedigreeFunction, Length: 768, dtype: float64"
      ]
     },
     "execution_count": 15,
     "metadata": {},
     "output_type": "execute_result"
    }
   ],
   "source": [
    "df['DiabetesPedigreeFunction']"
   ]
  },
  {
   "cell_type": "code",
   "execution_count": 16,
   "id": "9127f319",
   "metadata": {},
   "outputs": [
    {
     "data": {
      "text/plain": [
       "0.258    6\n",
       "0.254    6\n",
       "0.268    5\n",
       "0.207    5\n",
       "0.261    5\n",
       "        ..\n",
       "1.353    1\n",
       "0.655    1\n",
       "0.092    1\n",
       "0.926    1\n",
       "0.171    1\n",
       "Name: DiabetesPedigreeFunction, Length: 517, dtype: int64"
      ]
     },
     "execution_count": 16,
     "metadata": {},
     "output_type": "execute_result"
    }
   ],
   "source": [
    "df['DiabetesPedigreeFunction'].value_counts()"
   ]
  },
  {
   "cell_type": "markdown",
   "id": "997fc507",
   "metadata": {},
   "source": [
    "### Age"
   ]
  },
  {
   "cell_type": "code",
   "execution_count": 17,
   "id": "5c7aa69f",
   "metadata": {},
   "outputs": [
    {
     "data": {
      "text/plain": [
       "0      50\n",
       "1      31\n",
       "2      52\n",
       "3      21\n",
       "4      33\n",
       "       ..\n",
       "763    63\n",
       "764    27\n",
       "765    30\n",
       "766    47\n",
       "767    23\n",
       "Name: Age, Length: 768, dtype: int64"
      ]
     },
     "execution_count": 17,
     "metadata": {},
     "output_type": "execute_result"
    }
   ],
   "source": [
    "df['Age']"
   ]
  },
  {
   "cell_type": "code",
   "execution_count": 18,
   "id": "578047c1",
   "metadata": {},
   "outputs": [
    {
     "data": {
      "text/plain": [
       "22    72\n",
       "21    63\n",
       "25    48\n",
       "24    46\n",
       "23    38\n",
       "28    35\n",
       "26    33\n",
       "27    32\n",
       "29    29\n",
       "31    24\n",
       "41    22\n",
       "30    21\n",
       "37    19\n",
       "42    18\n",
       "33    17\n",
       "38    16\n",
       "36    16\n",
       "32    15\n",
       "45    15\n",
       "34    14\n",
       "43    13\n",
       "46    13\n",
       "40    13\n",
       "39    12\n",
       "35    11\n",
       "52     9\n",
       "50     8\n",
       "51     8\n",
       "44     8\n",
       "58     7\n",
       "47     6\n",
       "54     6\n",
       "49     5\n",
       "48     5\n",
       "57     5\n",
       "60     5\n",
       "66     4\n",
       "53     4\n",
       "62     4\n",
       "55     4\n",
       "63     4\n",
       "67     3\n",
       "56     3\n",
       "59     3\n",
       "65     3\n",
       "69     2\n",
       "61     2\n",
       "72     1\n",
       "81     1\n",
       "64     1\n",
       "70     1\n",
       "68     1\n",
       "Name: Age, dtype: int64"
      ]
     },
     "execution_count": 18,
     "metadata": {},
     "output_type": "execute_result"
    }
   ],
   "source": [
    "df['Age'].value_counts()"
   ]
  },
  {
   "cell_type": "code",
   "execution_count": 19,
   "id": "b16e4159",
   "metadata": {},
   "outputs": [
    {
     "name": "stdout",
     "output_type": "stream",
     "text": [
      "<class 'pandas.core.frame.DataFrame'>\n",
      "RangeIndex: 768 entries, 0 to 767\n",
      "Data columns (total 8 columns):\n",
      " #   Column                    Non-Null Count  Dtype  \n",
      "---  ------                    --------------  -----  \n",
      " 0   Glucose                   768 non-null    int64  \n",
      " 1   BloodPressure             768 non-null    int64  \n",
      " 2   SkinThickness             768 non-null    int64  \n",
      " 3   Insulin                   768 non-null    int64  \n",
      " 4   BMI                       768 non-null    float64\n",
      " 5   DiabetesPedigreeFunction  768 non-null    float64\n",
      " 6   Age                       768 non-null    int64  \n",
      " 7   Outcome                   768 non-null    int64  \n",
      "dtypes: float64(2), int64(6)\n",
      "memory usage: 48.1 KB\n"
     ]
    }
   ],
   "source": [
    "df.info()"
   ]
  },
  {
   "cell_type": "markdown",
   "id": "06461e13",
   "metadata": {},
   "source": [
    "# Feature Engineering"
   ]
  },
  {
   "cell_type": "code",
   "execution_count": 20,
   "id": "d5c36599",
   "metadata": {},
   "outputs": [
    {
     "data": {
      "text/plain": [
       "<AxesSubplot:>"
      ]
     },
     "execution_count": 20,
     "metadata": {},
     "output_type": "execute_result"
    },
    {
     "data": {
      "image/png": "[encoded data removed]",
      "text/plain": [
       "<Figure size 432x288 with 1 Axes>"
      ]
     },
     "metadata": {
      "needs_background": "light"
     },
     "output_type": "display_data"
    }
   ],
   "source": [
    "df[['Glucose']].boxplot() # 1"
   ]
  },
  {
   "cell_type": "code",
   "execution_count": 21,
   "id": "46500f23",
   "metadata": {},
   "outputs": [
    {
     "name": "stdout",
     "output_type": "stream",
     "text": [
      "q1--> 99.0\n",
      "q2--> 117.0\n",
      "q3--> 142.0\n",
      "upper_tail--> 206.5\n",
      "lower_tail--> 34.5\n",
      "mean--> 121.1171875\n",
      "118.0\n"
     ]
    },
    {
     "data": {
      "text/plain": [
       "<AxesSubplot:>"
      ]
     },
     "execution_count": 21,
     "metadata": {},
     "output_type": "execute_result"
    },
    {
     "data": {
      "image/png": "[encoded data removed]",
      "text/plain": [
       "<Figure size 640x480 with 1 Axes>"
      ]
     },
     "metadata": {},
     "output_type": "display_data"
    }
   ],
   "source": [
    "q1=df['Glucose'].quantile(0.25)\n",
    "q2=df['Glucose'].quantile(0.50)\n",
    "q3=df['Glucose'].quantile(0.75)\n",
    "\n",
    "iqr = q3-q1\n",
    "\n",
    "upper_tail=q3+1.5*iqr\n",
    "lower_tail=q1-1.5*iqr\n",
    "\n",
    "print('q1-->',q1)\n",
    "print('q2-->',q2)\n",
    "print('q3-->',q3)\n",
    "print('upper_tail-->',upper_tail)\n",
    "print('lower_tail-->',lower_tail)\n",
    "\n",
    "print(\"mean-->\",(df['Glucose'].mean()))\n",
    "\n",
    "df['Glucose'].median()\n",
    "\n",
    "size_df=df[['Glucose']].loc[(df['Glucose'] < upper_tail) & \n",
    "                                   (df['Glucose'] > lower_tail)].median()[0]\n",
    "print(size_df)  \n",
    "\n",
    "df.loc[(df['Glucose'] > upper_tail) |\n",
    "                (df['Glucose'] < lower_tail), 'Glucose'] = size_df\n",
    "\n",
    "\n",
    "df[['Glucose']].boxplot()"
   ]
  },
  {
   "cell_type": "code",
   "execution_count": 22,
   "id": "8d842641",
   "metadata": {},
   "outputs": [
    {
     "data": {
      "text/plain": [
       "<AxesSubplot:>"
      ]
     },
     "execution_count": 22,
     "metadata": {},
     "output_type": "execute_result"
    },
    {
     "data": {
      "image/png": "[encoded data removed]",
      "text/plain": [
       "<Figure size 640x480 with 1 Axes>"
      ]
     },
     "metadata": {},
     "output_type": "display_data"
    }
   ],
   "source": [
    "df[['BloodPressure']].boxplot() # 2"
   ]
  },
  {
   "cell_type": "code",
   "execution_count": 23,
   "id": "f5e32250",
   "metadata": {},
   "outputs": [
    {
     "name": "stdout",
     "output_type": "stream",
     "text": [
      "q1--> 62.0\n",
      "q2--> 72.0\n",
      "q3--> 80.0\n",
      "upper_tail--> 107.0\n",
      "lower_tail--> 35.0\n",
      "mean--> 69.07682291666667\n",
      "72.0\n"
     ]
    },
    {
     "data": {
      "text/plain": [
       "<AxesSubplot:>"
      ]
     },
     "execution_count": 23,
     "metadata": {},
     "output_type": "execute_result"
    },
    {
     "data": {
      "image/png": "[encoded data removed]",
      "text/plain": [
       "<Figure size 640x480 with 1 Axes>"
      ]
     },
     "metadata": {},
     "output_type": "display_data"
    }
   ],
   "source": [
    "q1=df['BloodPressure'].quantile(0.25)\n",
    "q2=df['BloodPressure'].quantile(0.50)\n",
    "q3=df['BloodPressure'].quantile(0.75)\n",
    "\n",
    "iqr = q3-q1\n",
    "\n",
    "upper_tail=q3+1.5*iqr\n",
    "lower_tail=q1-1.5*iqr\n",
    "\n",
    "print('q1-->',q1)\n",
    "print('q2-->',q2)\n",
    "print('q3-->',q3)\n",
    "print('upper_tail-->',upper_tail)\n",
    "print('lower_tail-->',lower_tail)\n",
    "\n",
    "print(\"mean-->\",(df['BloodPressure'].mean()))\n",
    "\n",
    "df['BloodPressure'].median()\n",
    "\n",
    "size_df=df[['BloodPressure']].loc[(df['BloodPressure'] < upper_tail) & \n",
    "                                   (df['BloodPressure'] > lower_tail)].median()[0]\n",
    "print(size_df)  \n",
    "\n",
    "df.loc[(df['BloodPressure'] > upper_tail) |\n",
    "                (df['BloodPressure'] < lower_tail), 'BloodPressure'] = size_df\n",
    "\n",
    "\n",
    "df[['BloodPressure']].boxplot()"
   ]
  },
  {
   "cell_type": "code",
   "execution_count": 24,
   "id": "c77e8275",
   "metadata": {},
   "outputs": [
    {
     "data": {
      "text/plain": [
       "<AxesSubplot:>"
      ]
     },
     "execution_count": 24,
     "metadata": {},
     "output_type": "execute_result"
    },
    {
     "data": {
      "image/png": "[encoded data removed]",
      "text/plain": [
       "<Figure size 640x480 with 1 Axes>"
      ]
     },
     "metadata": {},
     "output_type": "display_data"
    }
   ],
   "source": [
    "df[['SkinThickness']].boxplot() # 3"
   ]
  },
  {
   "cell_type": "code",
   "execution_count": 25,
   "id": "19625e08",
   "metadata": {},
   "outputs": [
    {
     "name": "stdout",
     "output_type": "stream",
     "text": [
      "q1--> 0.0\n",
      "q2--> 23.0\n",
      "q3--> 32.0\n",
      "upper_tail--> 80.0\n",
      "lower_tail--> -48.0\n",
      "mean--> 20.536458333333332\n",
      "23.0\n"
     ]
    },
    {
     "data": {
      "text/plain": [
       "<AxesSubplot:>"
      ]
     },
     "execution_count": 25,
     "metadata": {},
     "output_type": "execute_result"
    },
    {
     "data": {
      "image/png": "[encoded data removed]",
      "text/plain": [
       "<Figure size 640x480 with 1 Axes>"
      ]
     },
     "metadata": {},
     "output_type": "display_data"
    }
   ],
   "source": [
    "q1=df['SkinThickness'].quantile(0.25)\n",
    "q2=df['SkinThickness'].quantile(0.50)\n",
    "q3=df['SkinThickness'].quantile(0.75)\n",
    "\n",
    "iqr = q3-q1\n",
    "\n",
    "upper_tail=q3+1.5*iqr\n",
    "lower_tail=q1-1.5*iqr\n",
    "\n",
    "print('q1-->',q1)\n",
    "print('q2-->',q2)\n",
    "print('q3-->',q3)\n",
    "print('upper_tail-->',upper_tail)\n",
    "print('lower_tail-->',lower_tail)\n",
    "\n",
    "print(\"mean-->\",(df['SkinThickness'].mean()))\n",
    "\n",
    "df['SkinThickness'].median()\n",
    "\n",
    "size_df=df[['SkinThickness']].loc[(df['SkinThickness'] < upper_tail) & \n",
    "                                   (df['SkinThickness'] > lower_tail)].median()[0]\n",
    "print(size_df)  \n",
    "\n",
    "df.loc[(df['SkinThickness'] > upper_tail) |\n",
    "                (df['SkinThickness'] < lower_tail), 'SkinThickness'] = size_df\n",
    "\n",
    "\n",
    "df[['SkinThickness']].boxplot()\n"
   ]
  },
  {
   "cell_type": "code",
   "execution_count": 26,
   "id": "63f170a8",
   "metadata": {},
   "outputs": [
    {
     "data": {
      "text/plain": [
       "<AxesSubplot:>"
      ]
     },
     "execution_count": 26,
     "metadata": {},
     "output_type": "execute_result"
    },
    {
     "data": {
      "image/png": "[encoded data removed]",
      "text/plain": [
       "<Figure size 640x480 with 1 Axes>"
      ]
     },
     "metadata": {},
     "output_type": "display_data"
    }
   ],
   "source": [
    "df[['Insulin']].boxplot() # 4"
   ]
  },
  {
   "cell_type": "code",
   "execution_count": 27,
   "id": "d790e24a",
   "metadata": {},
   "outputs": [
    {
     "name": "stdout",
     "output_type": "stream",
     "text": [
      "q1--> 0.0\n",
      "q2--> 30.5\n",
      "q3--> 127.25\n",
      "upper_tail--> 318.125\n",
      "lower_tail--> -190.875\n",
      "mean--> 79.79947916666667\n",
      "0.0\n"
     ]
    },
    {
     "data": {
      "text/plain": [
       "<AxesSubplot:>"
      ]
     },
     "execution_count": 27,
     "metadata": {},
     "output_type": "execute_result"
    },
    {
     "data": {
      "image/png": "[encoded data removed]",
      "text/plain": [
       "<Figure size 640x480 with 1 Axes>"
      ]
     },
     "metadata": {},
     "output_type": "display_data"
    }
   ],
   "source": [
    "q1=df['Insulin'].quantile(0.25)\n",
    "q2=df['Insulin'].quantile(0.50)\n",
    "q3=df['Insulin'].quantile(0.75)\n",
    "\n",
    "iqr = q3-q1\n",
    "\n",
    "upper_tail=q3+1.5*iqr\n",
    "lower_tail=q1-1.5*iqr\n",
    "\n",
    "print('q1-->',q1)\n",
    "print('q2-->',q2)\n",
    "print('q3-->',q3)\n",
    "print('upper_tail-->',upper_tail)\n",
    "print('lower_tail-->',lower_tail)\n",
    "\n",
    "print(\"mean-->\",(df['Insulin'].mean()))\n",
    "\n",
    "df['Insulin'].median()\n",
    "\n",
    "size_df=df[['Insulin']].loc[(df['Insulin'] < upper_tail) & \n",
    "                                   (df['Insulin'] > lower_tail)].median()[0]\n",
    "print(size_df)  \n",
    "\n",
    "df.loc[(df['Insulin'] > upper_tail) |\n",
    "                (df['Insulin'] < lower_tail), 'Insulin'] = upper_tail\n",
    "\n",
    "\n",
    "df[['Insulin']].boxplot()"
   ]
  },
  {
   "cell_type": "code",
   "execution_count": 28,
   "id": "1fef0d31",
   "metadata": {},
   "outputs": [
    {
     "data": {
      "text/plain": [
       "<AxesSubplot:>"
      ]
     },
     "execution_count": 28,
     "metadata": {},
     "output_type": "execute_result"
    },
    {
     "data": {
      "image/png": "[encoded data removed]",
      "text/plain": [
       "<Figure size 640x480 with 1 Axes>"
      ]
     },
     "metadata": {},
     "output_type": "display_data"
    }
   ],
   "source": [
    "df[['BMI']].boxplot() # 5"
   ]
  },
  {
   "cell_type": "code",
   "execution_count": 29,
   "id": "bdb721b3",
   "metadata": {},
   "outputs": [
    {
     "name": "stdout",
     "output_type": "stream",
     "text": [
      "q1--> 27.3\n",
      "q2--> 32.0\n",
      "q3--> 36.6\n",
      "upper_tail--> 50.550000000000004\n",
      "lower_tail--> 13.35\n",
      "mean--> 31.992578124999998\n",
      "32.0\n"
     ]
    },
    {
     "data": {
      "text/plain": [
       "<AxesSubplot:>"
      ]
     },
     "execution_count": 29,
     "metadata": {},
     "output_type": "execute_result"
    },
    {
     "data": {
      "image/png": "[encoded data removed]",
      "text/plain": [
       "<Figure size 640x480 with 1 Axes>"
      ]
     },
     "metadata": {},
     "output_type": "display_data"
    }
   ],
   "source": [
    "q1=df['BMI'].quantile(0.25)\n",
    "q2=df['BMI'].quantile(0.50)\n",
    "q3=df['BMI'].quantile(0.75)\n",
    "\n",
    "iqr = q3-q1\n",
    "\n",
    "upper_tail=q3+1.5*iqr\n",
    "lower_tail=q1-1.5*iqr\n",
    "\n",
    "print('q1-->',q1)\n",
    "print('q2-->',q2)\n",
    "print('q3-->',q3)\n",
    "print('upper_tail-->',upper_tail)\n",
    "print('lower_tail-->',lower_tail)\n",
    "\n",
    "print(\"mean-->\",(df['BMI'].mean()))\n",
    "\n",
    "df['BMI'].median()\n",
    "\n",
    "size_df=df[['BMI']].loc[(df['BMI'] < upper_tail) & \n",
    "                                   (df['BMI'] > lower_tail)].median()[0]\n",
    "print(size_df)  \n",
    "\n",
    "df.loc[(df['BMI'] > upper_tail) |\n",
    "                (df['BMI'] < lower_tail), 'BMI'] = upper_tail\n",
    "\n",
    "\n",
    "df[['BMI']].boxplot()"
   ]
  },
  {
   "cell_type": "code",
   "execution_count": 30,
   "id": "54b53056",
   "metadata": {},
   "outputs": [
    {
     "data": {
      "text/plain": [
       "<AxesSubplot:>"
      ]
     },
     "execution_count": 30,
     "metadata": {},
     "output_type": "execute_result"
    },
    {
     "data": {
      "image/png": "[encoded data removed]",
      "text/plain": [
       "<Figure size 640x480 with 1 Axes>"
      ]
     },
     "metadata": {},
     "output_type": "display_data"
    }
   ],
   "source": [
    "df[['DiabetesPedigreeFunction']].boxplot()# 6"
   ]
  },
  {
   "cell_type": "code",
   "execution_count": 31,
   "id": "19cd4f1c",
   "metadata": {},
   "outputs": [
    {
     "name": "stdout",
     "output_type": "stream",
     "text": [
      "q1--> 0.24375\n",
      "q2--> 0.3725\n",
      "q3--> 0.62625\n",
      "upper_tail--> 1.2\n",
      "lower_tail--> -0.32999999999999996\n",
      "mean--> 0.47187630208333325\n",
      "0.356\n"
     ]
    },
    {
     "data": {
      "text/plain": [
       "<AxesSubplot:>"
      ]
     },
     "execution_count": 31,
     "metadata": {},
     "output_type": "execute_result"
    },
    {
     "data": {
      "image/png": "[encoded data removed]",
      "text/plain": [
       "<Figure size 640x480 with 1 Axes>"
      ]
     },
     "metadata": {},
     "output_type": "display_data"
    }
   ],
   "source": [
    "q1=df['DiabetesPedigreeFunction'].quantile(0.25)\n",
    "q2=df['DiabetesPedigreeFunction'].quantile(0.50)\n",
    "q3=df['DiabetesPedigreeFunction'].quantile(0.75)\n",
    "\n",
    "iqr = q3-q1\n",
    "\n",
    "upper_tail=q3+1.5*iqr\n",
    "lower_tail=q1-1.5*iqr\n",
    "\n",
    "print('q1-->',q1)\n",
    "print('q2-->',q2)\n",
    "print('q3-->',q3)\n",
    "print('upper_tail-->',upper_tail)\n",
    "print('lower_tail-->',lower_tail)\n",
    "\n",
    "print(\"mean-->\",(df['DiabetesPedigreeFunction'].mean()))\n",
    "\n",
    "df['DiabetesPedigreeFunction'].median()\n",
    "\n",
    "size_df=df[['DiabetesPedigreeFunction']].loc[(df['DiabetesPedigreeFunction'] < upper_tail) & \n",
    "                                   (df['DiabetesPedigreeFunction'] > lower_tail)].median()[0]\n",
    "print(size_df)  \n",
    "\n",
    "df.loc[(df['DiabetesPedigreeFunction'] > upper_tail) |\n",
    "                (df['DiabetesPedigreeFunction'] < lower_tail), 'DiabetesPedigreeFunction'] = upper_tail\n",
    "\n",
    "\n",
    "df[['DiabetesPedigreeFunction']].boxplot()"
   ]
  },
  {
   "cell_type": "code",
   "execution_count": 32,
   "id": "9b6e2f71",
   "metadata": {},
   "outputs": [
    {
     "data": {
      "text/plain": [
       "<AxesSubplot:>"
      ]
     },
     "execution_count": 32,
     "metadata": {},
     "output_type": "execute_result"
    },
    {
     "data": {
      "image/png": "[encoded data removed]",
      "text/plain": [
       "<Figure size 640x480 with 1 Axes>"
      ]
     },
     "metadata": {},
     "output_type": "display_data"
    }
   ],
   "source": [
    "df[['Age']].boxplot() # 7"
   ]
  },
  {
   "cell_type": "code",
   "execution_count": 33,
   "id": "26e8f4f9",
   "metadata": {},
   "outputs": [
    {
     "name": "stdout",
     "output_type": "stream",
     "text": [
      "q1--> 24.0\n",
      "q2--> 29.0\n",
      "q3--> 41.0\n",
      "upper_tail--> 66.5\n",
      "lower_tail--> -1.5\n",
      "mean--> 33.243489583333336\n",
      "29.0\n"
     ]
    },
    {
     "data": {
      "text/plain": [
       "<AxesSubplot:>"
      ]
     },
     "execution_count": 33,
     "metadata": {},
     "output_type": "execute_result"
    },
    {
     "data": {
      "image/png": "[encoded data removed]",
      "text/plain": [
       "<Figure size 640x480 with 1 Axes>"
      ]
     },
     "metadata": {},
     "output_type": "display_data"
    }
   ],
   "source": [
    "q1=df['Age'].quantile(0.25)\n",
    "q2=df['Age'].quantile(0.50)\n",
    "q3=df['Age'].quantile(0.75)\n",
    "\n",
    "iqr = q3-q1\n",
    "\n",
    "upper_tail=q3+1.5*iqr\n",
    "lower_tail=q1-1.5*iqr\n",
    "\n",
    "print('q1-->',q1)\n",
    "print('q2-->',q2)\n",
    "print('q3-->',q3)\n",
    "print('upper_tail-->',upper_tail)\n",
    "print('lower_tail-->',lower_tail)\n",
    "\n",
    "print(\"mean-->\",(df['Age'].mean()))\n",
    "\n",
    "df['Age'].median()\n",
    "\n",
    "size_df=df[['Age']].loc[(df['Age'] < upper_tail) & \n",
    "                                   (df['Age'] > lower_tail)].median()[0]\n",
    "print(size_df)  \n",
    "\n",
    "df.loc[(df['Age'] > upper_tail) |\n",
    "                (df['Age'] < lower_tail), 'Age'] = upper_tail\n",
    "\n",
    "\n",
    "df[['Age']].boxplot()"
   ]
  },
  {
   "cell_type": "markdown",
   "id": "153acd8b",
   "metadata": {},
   "source": [
    "# Feature selection"
   ]
  },
  {
   "cell_type": "code",
   "execution_count": 35,
   "id": "3ee31eb9",
   "metadata": {},
   "outputs": [
    {
     "data": {
      "text/html": [
       "<div>\n",
       "<style scoped>\n",
       "    .dataframe tbody tr th:only-of-type {\n",
       "        vertical-align: middle;\n",
       "    }\n",
       "\n",
       "    .dataframe tbody tr th {\n",
       "        vertical-align: top;\n",
       "    }\n",
       "\n",
       "    .dataframe thead th {\n",
       "        text-align: right;\n",
       "    }\n",
       "</style>\n",
       "<table border=\"1\" class=\"dataframe\">\n",
       "  <thead>\n",
       "    <tr style=\"text-align: right;\">\n",
       "      <th></th>\n",
       "      <th>Glucose</th>\n",
       "      <th>BloodPressure</th>\n",
       "      <th>SkinThickness</th>\n",
       "      <th>Insulin</th>\n",
       "      <th>BMI</th>\n",
       "      <th>DiabetesPedigreeFunction</th>\n",
       "      <th>Age</th>\n",
       "      <th>Outcome</th>\n",
       "    </tr>\n",
       "  </thead>\n",
       "  <tbody>\n",
       "    <tr>\n",
       "      <th>Glucose</th>\n",
       "      <td>1.000000</td>\n",
       "      <td>0.201716</td>\n",
       "      <td>0.053251</td>\n",
       "      <td>0.299601</td>\n",
       "      <td>0.204516</td>\n",
       "      <td>0.113277</td>\n",
       "      <td>0.261650</td>\n",
       "      <td>0.489484</td>\n",
       "    </tr>\n",
       "    <tr>\n",
       "      <th>BloodPressure</th>\n",
       "      <td>0.201716</td>\n",
       "      <td>1.000000</td>\n",
       "      <td>0.023198</td>\n",
       "      <td>-0.047564</td>\n",
       "      <td>0.280226</td>\n",
       "      <td>0.015485</td>\n",
       "      <td>0.319728</td>\n",
       "      <td>0.160946</td>\n",
       "    </tr>\n",
       "    <tr>\n",
       "      <th>SkinThickness</th>\n",
       "      <td>0.053251</td>\n",
       "      <td>0.023198</td>\n",
       "      <td>1.000000</td>\n",
       "      <td>0.496373</td>\n",
       "      <td>0.326691</td>\n",
       "      <td>0.177653</td>\n",
       "      <td>-0.138106</td>\n",
       "      <td>0.067344</td>\n",
       "    </tr>\n",
       "    <tr>\n",
       "      <th>Insulin</th>\n",
       "      <td>0.299601</td>\n",
       "      <td>-0.047564</td>\n",
       "      <td>0.496373</td>\n",
       "      <td>1.000000</td>\n",
       "      <td>0.157390</td>\n",
       "      <td>0.190087</td>\n",
       "      <td>-0.072597</td>\n",
       "      <td>0.124721</td>\n",
       "    </tr>\n",
       "    <tr>\n",
       "      <th>BMI</th>\n",
       "      <td>0.204516</td>\n",
       "      <td>0.280226</td>\n",
       "      <td>0.326691</td>\n",
       "      <td>0.157390</td>\n",
       "      <td>1.000000</td>\n",
       "      <td>0.122081</td>\n",
       "      <td>0.021778</td>\n",
       "      <td>0.284570</td>\n",
       "    </tr>\n",
       "    <tr>\n",
       "      <th>DiabetesPedigreeFunction</th>\n",
       "      <td>0.113277</td>\n",
       "      <td>0.015485</td>\n",
       "      <td>0.177653</td>\n",
       "      <td>0.190087</td>\n",
       "      <td>0.122081</td>\n",
       "      <td>1.000000</td>\n",
       "      <td>0.051098</td>\n",
       "      <td>0.184969</td>\n",
       "    </tr>\n",
       "    <tr>\n",
       "      <th>Age</th>\n",
       "      <td>0.261650</td>\n",
       "      <td>0.319728</td>\n",
       "      <td>-0.138106</td>\n",
       "      <td>-0.072597</td>\n",
       "      <td>0.021778</td>\n",
       "      <td>0.051098</td>\n",
       "      <td>1.000000</td>\n",
       "      <td>0.243051</td>\n",
       "    </tr>\n",
       "    <tr>\n",
       "      <th>Outcome</th>\n",
       "      <td>0.489484</td>\n",
       "      <td>0.160946</td>\n",
       "      <td>0.067344</td>\n",
       "      <td>0.124721</td>\n",
       "      <td>0.284570</td>\n",
       "      <td>0.184969</td>\n",
       "      <td>0.243051</td>\n",
       "      <td>1.000000</td>\n",
       "    </tr>\n",
       "  </tbody>\n",
       "</table>\n",
       "</div>"
      ],
      "text/plain": [
       "                           Glucose  BloodPressure  SkinThickness   Insulin  \\\n",
       "Glucose                   1.000000       0.201716       0.053251  0.299601   \n",
       "BloodPressure             0.201716       1.000000       0.023198 -0.047564   \n",
       "SkinThickness             0.053251       0.023198       1.000000  0.496373   \n",
       "Insulin                   0.299601      -0.047564       0.496373  1.000000   \n",
       "BMI                       0.204516       0.280226       0.326691  0.157390   \n",
       "DiabetesPedigreeFunction  0.113277       0.015485       0.177653  0.190087   \n",
       "Age                       0.261650       0.319728      -0.138106 -0.072597   \n",
       "Outcome                   0.489484       0.160946       0.067344  0.124721   \n",
       "\n",
       "                               BMI  DiabetesPedigreeFunction       Age  \\\n",
       "Glucose                   0.204516                  0.113277  0.261650   \n",
       "BloodPressure             0.280226                  0.015485  0.319728   \n",
       "SkinThickness             0.326691                  0.177653 -0.138106   \n",
       "Insulin                   0.157390                  0.190087 -0.072597   \n",
       "BMI                       1.000000                  0.122081  0.021778   \n",
       "DiabetesPedigreeFunction  0.122081                  1.000000  0.051098   \n",
       "Age                       0.021778                  0.051098  1.000000   \n",
       "Outcome                   0.284570                  0.184969  0.243051   \n",
       "\n",
       "                           Outcome  \n",
       "Glucose                   0.489484  \n",
       "BloodPressure             0.160946  \n",
       "SkinThickness             0.067344  \n",
       "Insulin                   0.124721  \n",
       "BMI                       0.284570  \n",
       "DiabetesPedigreeFunction  0.184969  \n",
       "Age                       0.243051  \n",
       "Outcome                   1.000000  "
      ]
     },
     "execution_count": 35,
     "metadata": {},
     "output_type": "execute_result"
    }
   ],
   "source": [
    "df.corr()"
   ]
  },
  {
   "cell_type": "code",
   "execution_count": 37,
   "id": "986a6ad6",
   "metadata": {},
   "outputs": [
    {
     "data": {
      "text/plain": [
       "<AxesSubplot:>"
      ]
     },
     "execution_count": 37,
     "metadata": {},
     "output_type": "execute_result"
    },
    {
     "data": {
      "image/png": "[encoded data removed]",
      "text/plain": [
       "<Figure size 2000x2000 with 2 Axes>"
      ]
     },
     "metadata": {},
     "output_type": "display_data"
    }
   ],
   "source": [
    "plt.figure(figsize=(20,20))\n",
    "sns.heatmap(df.corr(),annot = True)"
   ]
  },
  {
   "cell_type": "markdown",
   "id": "f90a86fe",
   "metadata": {},
   "source": [
    "# Model Training"
   ]
  },
  {
   "cell_type": "code",
   "execution_count": 38,
   "id": "45f1596f",
   "metadata": {},
   "outputs": [],
   "source": [
    "x = df.drop('Outcome',axis = 1)\n",
    "y = df['Outcome']"
   ]
  },
  {
   "cell_type": "code",
   "execution_count": 47,
   "id": "07be94df",
   "metadata": {},
   "outputs": [],
   "source": [
    "x_train,x_test,y_train,y_test = train_test_split(x,y,test_size=0.30,random_state=1,stratify =y)"
   ]
  },
  {
   "cell_type": "code",
   "execution_count": 48,
   "id": "dcf868d8",
   "metadata": {},
   "outputs": [
    {
     "data": {
      "text/html": [
       "<style>#sk-container-id-4 {color: black;background-color: white;}#sk-container-id-4 pre{padding: 0;}#sk-container-id-4 div.sk-toggleable {background-color: white;}#sk-container-id-4 label.sk-toggleable__label {cursor: pointer;display: block;width: 100%;margin-bottom: 0;padding: 0.3em;box-sizing: border-box;text-align: center;}#sk-container-id-4 label.sk-toggleable__label-arrow:before {content: \"▸\";float: left;margin-right: 0.25em;color: #696969;}#sk-container-id-4 label.sk-toggleable__label-arrow:hover:before {color: black;}#sk-container-id-4 div.sk-estimator:hover label.sk-toggleable__label-arrow:before {color: black;}#sk-container-id-4 div.sk-toggleable__content {max-height: 0;max-width: 0;overflow: hidden;text-align: left;background-color: #f0f8ff;}#sk-container-id-4 div.sk-toggleable__content pre {margin: 0.2em;color: black;border-radius: 0.25em;background-color: #f0f8ff;}#sk-container-id-4 input.sk-toggleable__control:checked~div.sk-toggleable__content {max-height: 200px;max-width: 100%;overflow: auto;}#sk-container-id-4 input.sk-toggleable__control:checked~label.sk-toggleable__label-arrow:before {content: \"▾\";}#sk-container-id-4 div.sk-estimator input.sk-toggleable__control:checked~label.sk-toggleable__label {background-color: #d4ebff;}#sk-container-id-4 div.sk-label input.sk-toggleable__control:checked~label.sk-toggleable__label {background-color: #d4ebff;}#sk-container-id-4 input.sk-hidden--visually {border: 0;clip: rect(1px 1px 1px 1px);clip: rect(1px, 1px, 1px, 1px);height: 1px;margin: -1px;overflow: hidden;padding: 0;position: absolute;width: 1px;}#sk-container-id-4 div.sk-estimator {font-family: monospace;background-color: #f0f8ff;border: 1px dotted black;border-radius: 0.25em;box-sizing: border-box;margin-bottom: 0.5em;}#sk-container-id-4 div.sk-estimator:hover {background-color: #d4ebff;}#sk-container-id-4 div.sk-parallel-item::after {content: \"\";width: 100%;border-bottom: 1px solid gray;flex-grow: 1;}#sk-container-id-4 div.sk-label:hover label.sk-toggleable__label {background-color: #d4ebff;}#sk-container-id-4 div.sk-serial::before {content: \"\";position: absolute;border-left: 1px solid gray;box-sizing: border-box;top: 0;bottom: 0;left: 50%;z-index: 0;}#sk-container-id-4 div.sk-serial {display: flex;flex-direction: column;align-items: center;background-color: white;padding-right: 0.2em;padding-left: 0.2em;position: relative;}#sk-container-id-4 div.sk-item {position: relative;z-index: 1;}#sk-container-id-4 div.sk-parallel {display: flex;align-items: stretch;justify-content: center;background-color: white;position: relative;}#sk-container-id-4 div.sk-item::before, #sk-container-id-4 div.sk-parallel-item::before {content: \"\";position: absolute;border-left: 1px solid gray;box-sizing: border-box;top: 0;bottom: 0;left: 50%;z-index: -1;}#sk-container-id-4 div.sk-parallel-item {display: flex;flex-direction: column;z-index: 1;position: relative;background-color: white;}#sk-container-id-4 div.sk-parallel-item:first-child::after {align-self: flex-end;width: 50%;}#sk-container-id-4 div.sk-parallel-item:last-child::after {align-self: flex-start;width: 50%;}#sk-container-id-4 div.sk-parallel-item:only-child::after {width: 0;}#sk-container-id-4 div.sk-dashed-wrapped {border: 1px dashed gray;margin: 0 0.4em 0.5em 0.4em;box-sizing: border-box;padding-bottom: 0.4em;background-color: white;}#sk-container-id-4 div.sk-label label {font-family: monospace;font-weight: bold;display: inline-block;line-height: 1.2em;}#sk-container-id-4 div.sk-label-container {text-align: center;}#sk-container-id-4 div.sk-container {/* jupyter's `normalize.less` sets `[hidden] { display: none; }` but bootstrap.min.css set `[hidden] { display: none !important; }` so we also need the `!important` here to be able to override the default hidden behavior on the sphinx rendered scikit-learn.org. See: https://github.com/scikit-learn/scikit-learn/issues/21755 */display: inline-block !important;position: relative;}#sk-container-id-4 div.sk-text-repr-fallback {display: none;}</style><div id=\"sk-container-id-4\" class=\"sk-top-container\"><div class=\"sk-text-repr-fallback\"><pre>LogisticRegression()</pre><b>In a Jupyter environment, please rerun this cell to show the HTML representation or trust the notebook. <br />On GitHub, the HTML representation is unable to render, please try loading this page with nbviewer.org.</b></div><div class=\"sk-container\" hidden><div class=\"sk-item\"><div class=\"sk-estimator sk-toggleable\"><input class=\"sk-toggleable__control sk-hidden--visually\" id=\"sk-estimator-id-4\" type=\"checkbox\" checked><label for=\"sk-estimator-id-4\" class=\"sk-toggleable__label sk-toggleable__label-arrow\">LogisticRegression</label><div class=\"sk-toggleable__content\"><pre>LogisticRegression()</pre></div></div></div></div></div>"
      ],
      "text/plain": [
       "LogisticRegression()"
      ]
     },
     "execution_count": 48,
     "metadata": {},
     "output_type": "execute_result"
    }
   ],
   "source": [
    "dibetes_model = LogisticRegression()\n",
    "dibetes_model.fit(x_train,y_train)"
   ]
  },
  {
   "cell_type": "code",
   "execution_count": 49,
   "id": "393f42f5",
   "metadata": {
    "scrolled": true
   },
   "outputs": [
    {
     "data": {
      "text/plain": [
       "<sklearn.metrics._plot.confusion_matrix.ConfusionMatrixDisplay at 0x16b18c855a0>"
      ]
     },
     "execution_count": 49,
     "metadata": {},
     "output_type": "execute_result"
    },
    {
     "data": {
      "image/png": "[encoded data removed]",
      "text/plain": [
       "<Figure size 640x480 with 2 Axes>"
      ]
     },
     "metadata": {},
     "output_type": "display_data"
    }
   ],
   "source": [
    "# Training Data\n",
    "plot_confusion_matrix(dibetes_model, x_train, y_train)"
   ]
  },
  {
   "cell_type": "code",
   "execution_count": 50,
   "id": "80f79d86",
   "metadata": {},
   "outputs": [
    {
     "data": {
      "text/plain": [
       "<sklearn.metrics._plot.confusion_matrix.ConfusionMatrixDisplay at 0x16b102d1120>"
      ]
     },
     "execution_count": 50,
     "metadata": {},
     "output_type": "execute_result"
    },
    {
     "data": {
      "image/png": "[encoded data removed]",
      "text/plain": [
       "<Figure size 640x480 with 2 Axes>"
      ]
     },
     "metadata": {},
     "output_type": "display_data"
    }
   ],
   "source": [
    "# Training Data\n",
    "plot_confusion_matrix(dibetes_model, x_test, y_test)"
   ]
  },
  {
   "cell_type": "code",
   "execution_count": 51,
   "id": "4620b3e4",
   "metadata": {},
   "outputs": [
    {
     "data": {
      "text/plain": [
       "0.7858472998137802"
      ]
     },
     "execution_count": 51,
     "metadata": {},
     "output_type": "execute_result"
    }
   ],
   "source": [
    "# Training Accuracy\n",
    "dibetes_model.score(x_train, y_train)"
   ]
  },
  {
   "cell_type": "code",
   "execution_count": 52,
   "id": "7a6f1842",
   "metadata": {},
   "outputs": [
    {
     "data": {
      "text/plain": [
       "0.7532467532467533"
      ]
     },
     "execution_count": 52,
     "metadata": {},
     "output_type": "execute_result"
    }
   ],
   "source": [
    "# Testing Accuracy\n",
    "dibetes_model.score(x_test, y_test)"
   ]
  },
  {
   "cell_type": "markdown",
   "id": "2012b3f9",
   "metadata": {},
   "source": [
    "# Model Evaluation"
   ]
  },
  {
   "cell_type": "code",
   "execution_count": 53,
   "id": "ea3aa9c5",
   "metadata": {},
   "outputs": [
    {
     "data": {
      "text/plain": [
       "array([0, 1, 0, 0, 0, 0, 1, 0, 0, 0, 0, 1, 0, 1, 0, 0, 0, 0, 0, 0, 0, 0,\n",
       "       0, 1, 1, 1, 0, 0, 1, 1, 1, 1, 1, 0, 0, 0, 1, 0, 0, 0, 0, 0, 1, 1,\n",
       "       0, 0, 1, 0, 1, 0, 1, 0, 1, 0, 0, 1, 0, 0, 0, 0, 1, 1, 0, 1, 0, 0,\n",
       "       0, 1, 0, 1, 0, 0, 0, 0, 0, 0, 0, 0, 0, 1, 0, 0, 0, 0, 0, 0, 1, 0,\n",
       "       1, 0, 0, 0, 0, 0, 1, 0, 0, 0, 0, 0, 1, 0, 0, 0, 0, 0, 0, 1, 0, 0,\n",
       "       0, 0, 0, 0, 0, 0, 1, 0, 0, 0, 1, 1, 1, 0, 1, 0, 0, 0, 0, 0, 0, 0,\n",
       "       0, 0, 1, 1, 0, 0, 0, 0, 0, 0, 0, 0, 0, 1, 0, 0, 0, 1, 1, 1, 0, 0,\n",
       "       0, 0, 1, 0, 0, 0, 0, 0, 0, 1, 0, 0, 1, 1, 0, 0, 0, 0, 0, 1, 0, 0,\n",
       "       0, 0, 1, 0, 0, 0, 0, 1, 0, 0, 0, 1, 0, 0, 0, 1, 0, 0, 0, 0, 0, 1,\n",
       "       0, 0, 0, 0, 0, 0, 1, 1, 0, 0, 0, 0, 1, 1, 0, 0, 0, 1, 0, 1, 0, 0,\n",
       "       0, 0, 1, 0, 0, 1, 1, 1, 1, 1, 0], dtype=int64)"
      ]
     },
     "execution_count": 53,
     "metadata": {},
     "output_type": "execute_result"
    }
   ],
   "source": [
    "# # prediction\n",
    "y_pred = dibetes_model.predict(x_test)\n",
    "y_pred"
   ]
  },
  {
   "cell_type": "code",
   "execution_count": 54,
   "id": "78a3c664",
   "metadata": {},
   "outputs": [
    {
     "data": {
      "text/plain": [
       "array([[0.74454344, 0.25545656],\n",
       "       [0.14223606, 0.85776394],\n",
       "       [0.75425271, 0.24574729],\n",
       "       [0.96139613, 0.03860387],\n",
       "       [0.65613599, 0.34386401],\n",
       "       [0.90608547, 0.09391453],\n",
       "       [0.13628113, 0.86371887],\n",
       "       [0.70445988, 0.29554012],\n",
       "       [0.51779303, 0.48220697],\n",
       "       [0.9169873 , 0.0830127 ],\n",
       "       [0.7425744 , 0.2574256 ],\n",
       "       [0.25722473, 0.74277527],\n",
       "       [0.94219942, 0.05780058],\n",
       "       [0.48702504, 0.51297496],\n",
       "       [0.96750393, 0.03249607],\n",
       "       [0.92761026, 0.07238974],\n",
       "       [0.68678348, 0.31321652],\n",
       "       [0.86740699, 0.13259301],\n",
       "       [0.55816932, 0.44183068],\n",
       "       [0.93923597, 0.06076403],\n",
       "       [0.60358131, 0.39641869],\n",
       "       [0.68546931, 0.31453069],\n",
       "       [0.72999668, 0.27000332],\n",
       "       [0.14127056, 0.85872944],\n",
       "       [0.16622768, 0.83377232],\n",
       "       [0.31450444, 0.68549556],\n",
       "       [0.55998319, 0.44001681],\n",
       "       [0.70913229, 0.29086771],\n",
       "       [0.37699099, 0.62300901],\n",
       "       [0.4822951 , 0.5177049 ],\n",
       "       [0.06834345, 0.93165655],\n",
       "       [0.25258526, 0.74741474],\n",
       "       [0.33833579, 0.66166421],\n",
       "       [0.88349085, 0.11650915],\n",
       "       [0.94367013, 0.05632987],\n",
       "       [0.95903348, 0.04096652],\n",
       "       [0.37129451, 0.62870549],\n",
       "       [0.95100539, 0.04899461],\n",
       "       [0.68682964, 0.31317036],\n",
       "       [0.70583956, 0.29416044],\n",
       "       [0.93141814, 0.06858186],\n",
       "       [0.88740432, 0.11259568],\n",
       "       [0.09446762, 0.90553238],\n",
       "       [0.22375321, 0.77624679],\n",
       "       [0.63318781, 0.36681219],\n",
       "       [0.79379495, 0.20620505],\n",
       "       [0.37619499, 0.62380501],\n",
       "       [0.51331031, 0.48668969],\n",
       "       [0.18542179, 0.81457821],\n",
       "       [0.69066466, 0.30933534],\n",
       "       [0.17798393, 0.82201607],\n",
       "       [0.78666737, 0.21333263],\n",
       "       [0.41168979, 0.58831021],\n",
       "       [0.80494347, 0.19505653],\n",
       "       [0.83597162, 0.16402838],\n",
       "       [0.14944021, 0.85055979],\n",
       "       [0.86897352, 0.13102648],\n",
       "       [0.87813291, 0.12186709],\n",
       "       [0.80939927, 0.19060073],\n",
       "       [0.64100629, 0.35899371],\n",
       "       [0.33442253, 0.66557747],\n",
       "       [0.31659755, 0.68340245],\n",
       "       [0.69818899, 0.30181101],\n",
       "       [0.34035871, 0.65964129],\n",
       "       [0.69243347, 0.30756653],\n",
       "       [0.84239119, 0.15760881],\n",
       "       [0.81693027, 0.18306973],\n",
       "       [0.36778646, 0.63221354],\n",
       "       [0.91280689, 0.08719311],\n",
       "       [0.17062506, 0.82937494],\n",
       "       [0.64114904, 0.35885096],\n",
       "       [0.82388157, 0.17611843],\n",
       "       [0.68781524, 0.31218476],\n",
       "       [0.69212028, 0.30787972],\n",
       "       [0.83806071, 0.16193929],\n",
       "       [0.85932698, 0.14067302],\n",
       "       [0.81006159, 0.18993841],\n",
       "       [0.94632685, 0.05367315],\n",
       "       [0.96655799, 0.03344201],\n",
       "       [0.46208488, 0.53791512],\n",
       "       [0.96372335, 0.03627665],\n",
       "       [0.88836341, 0.11163659],\n",
       "       [0.92877578, 0.07122422],\n",
       "       [0.76906985, 0.23093015],\n",
       "       [0.74928548, 0.25071452],\n",
       "       [0.85580593, 0.14419407],\n",
       "       [0.3812386 , 0.6187614 ],\n",
       "       [0.8583892 , 0.1416108 ],\n",
       "       [0.12295205, 0.87704795],\n",
       "       [0.81382672, 0.18617328],\n",
       "       [0.83010807, 0.16989193],\n",
       "       [0.93455165, 0.06544835],\n",
       "       [0.89255656, 0.10744344],\n",
       "       [0.77495947, 0.22504053],\n",
       "       [0.46117781, 0.53882219],\n",
       "       [0.96542822, 0.03457178],\n",
       "       [0.75618935, 0.24381065],\n",
       "       [0.55015177, 0.44984823],\n",
       "       [0.74736331, 0.25263669],\n",
       "       [0.64059055, 0.35940945],\n",
       "       [0.19585137, 0.80414863],\n",
       "       [0.81941996, 0.18058004],\n",
       "       [0.69562003, 0.30437997],\n",
       "       [0.60474916, 0.39525084],\n",
       "       [0.95715138, 0.04284862],\n",
       "       [0.69083268, 0.30916732],\n",
       "       [0.9249315 , 0.0750685 ],\n",
       "       [0.40707525, 0.59292475],\n",
       "       [0.90444601, 0.09555399],\n",
       "       [0.65786976, 0.34213024],\n",
       "       [0.90170073, 0.09829927],\n",
       "       [0.7910258 , 0.2089742 ],\n",
       "       [0.91029362, 0.08970638],\n",
       "       [0.87183631, 0.12816369],\n",
       "       [0.93811107, 0.06188893],\n",
       "       [0.81081736, 0.18918264],\n",
       "       [0.45673041, 0.54326959],\n",
       "       [0.6071612 , 0.3928388 ],\n",
       "       [0.67935147, 0.32064853],\n",
       "       [0.84711868, 0.15288132],\n",
       "       [0.03811437, 0.96188563],\n",
       "       [0.33327381, 0.66672619],\n",
       "       [0.4878247 , 0.5121753 ],\n",
       "       [0.86670387, 0.13329613],\n",
       "       [0.10755735, 0.89244265],\n",
       "       [0.51233417, 0.48766583],\n",
       "       [0.98413563, 0.01586437],\n",
       "       [0.88841705, 0.11158295],\n",
       "       [0.96445927, 0.03554073],\n",
       "       [0.70344666, 0.29655334],\n",
       "       [0.59434461, 0.40565539],\n",
       "       [0.90497747, 0.09502253],\n",
       "       [0.61392827, 0.38607173],\n",
       "       [0.71806125, 0.28193875],\n",
       "       [0.28940063, 0.71059937],\n",
       "       [0.04896954, 0.95103046],\n",
       "       [0.95353117, 0.04646883],\n",
       "       [0.82023946, 0.17976054],\n",
       "       [0.85736491, 0.14263509],\n",
       "       [0.74654034, 0.25345966],\n",
       "       [0.68789495, 0.31210505],\n",
       "       [0.92853317, 0.07146683],\n",
       "       [0.9464109 , 0.0535891 ],\n",
       "       [0.72619235, 0.27380765],\n",
       "       [0.87066121, 0.12933879],\n",
       "       [0.22155728, 0.77844272],\n",
       "       [0.74052342, 0.25947658],\n",
       "       [0.96124187, 0.03875813],\n",
       "       [0.85789111, 0.14210889],\n",
       "       [0.35892226, 0.64107774],\n",
       "       [0.28101149, 0.71898851],\n",
       "       [0.28186105, 0.71813895],\n",
       "       [0.69306667, 0.30693333],\n",
       "       [0.96473762, 0.03526238],\n",
       "       [0.86999254, 0.13000746],\n",
       "       [0.86118448, 0.13881552],\n",
       "       [0.42479589, 0.57520411],\n",
       "       [0.63772175, 0.36227825],\n",
       "       [0.96346908, 0.03653092],\n",
       "       [0.92633013, 0.07366987],\n",
       "       [0.92010157, 0.07989843],\n",
       "       [0.9427044 , 0.0572956 ],\n",
       "       [0.66950197, 0.33049803],\n",
       "       [0.20411232, 0.79588768],\n",
       "       [0.51183913, 0.48816087],\n",
       "       [0.97476554, 0.02523446],\n",
       "       [0.47332054, 0.52667946],\n",
       "       [0.18544977, 0.81455023],\n",
       "       [0.94515663, 0.05484337],\n",
       "       [0.81066714, 0.18933286],\n",
       "       [0.88580745, 0.11419255],\n",
       "       [0.80864918, 0.19135082],\n",
       "       [0.86275148, 0.13724852],\n",
       "       [0.44253041, 0.55746959],\n",
       "       [0.80601491, 0.19398509],\n",
       "       [0.81078771, 0.18921229],\n",
       "       [0.59304872, 0.40695128],\n",
       "       [0.84122531, 0.15877469],\n",
       "       [0.46351598, 0.53648402],\n",
       "       [0.9713271 , 0.0286729 ],\n",
       "       [0.90101315, 0.09898685],\n",
       "       [0.95025307, 0.04974693],\n",
       "       [0.55179137, 0.44820863],\n",
       "       [0.09253437, 0.90746563],\n",
       "       [0.91296784, 0.08703216],\n",
       "       [0.82531713, 0.17468287],\n",
       "       [0.74096119, 0.25903881],\n",
       "       [0.2029895 , 0.7970105 ],\n",
       "       [0.93286663, 0.06713337],\n",
       "       [0.93899883, 0.06100117],\n",
       "       [0.79777921, 0.20222079],\n",
       "       [0.28013268, 0.71986732],\n",
       "       [0.95320612, 0.04679388],\n",
       "       [0.93875996, 0.06124004],\n",
       "       [0.92253645, 0.07746355],\n",
       "       [0.79947197, 0.20052803],\n",
       "       [0.88596058, 0.11403942],\n",
       "       [0.38209675, 0.61790325],\n",
       "       [0.73460909, 0.26539091],\n",
       "       [0.8980122 , 0.1019878 ],\n",
       "       [0.89801536, 0.10198464],\n",
       "       [0.52294506, 0.47705494],\n",
       "       [0.50702152, 0.49297848],\n",
       "       [0.84762565, 0.15237435],\n",
       "       [0.4956816 , 0.5043184 ],\n",
       "       [0.41533127, 0.58466873],\n",
       "       [0.93519742, 0.06480258],\n",
       "       [0.70150394, 0.29849606],\n",
       "       [0.83355463, 0.16644537],\n",
       "       [0.95651976, 0.04348024],\n",
       "       [0.07520227, 0.92479773],\n",
       "       [0.17264067, 0.82735933],\n",
       "       [0.93803908, 0.06196092],\n",
       "       [0.846204  , 0.153796  ],\n",
       "       [0.70524905, 0.29475095],\n",
       "       [0.05539303, 0.94460697],\n",
       "       [0.80458014, 0.19541986],\n",
       "       [0.04781847, 0.95218153],\n",
       "       [0.55955827, 0.44044173],\n",
       "       [0.9167231 , 0.0832769 ],\n",
       "       [0.90220753, 0.09779247],\n",
       "       [0.80548073, 0.19451927],\n",
       "       [0.40508528, 0.59491472],\n",
       "       [0.60058522, 0.39941478],\n",
       "       [0.55396095, 0.44603905],\n",
       "       [0.1065614 , 0.8934386 ],\n",
       "       [0.44148056, 0.55851944],\n",
       "       [0.33249236, 0.66750764],\n",
       "       [0.14440508, 0.85559492],\n",
       "       [0.32204329, 0.67795671],\n",
       "       [0.54398969, 0.45601031]])"
      ]
     },
     "execution_count": 54,
     "metadata": {},
     "output_type": "execute_result"
    }
   ],
   "source": [
    "# prediction probability\n",
    "y_pred_proba = dibetes_model.predict_proba(x_test)\n",
    "y_pred_proba"
   ]
  },
  {
   "cell_type": "code",
   "execution_count": 55,
   "id": "988f9a00",
   "metadata": {},
   "outputs": [
    {
     "name": "stdout",
     "output_type": "stream",
     "text": [
      "Confusion Matrix:\n",
      " [[130  20]\n",
      " [ 37  44]]\n",
      "*********************************************\n",
      "Accuracy Score: 0.7532467532467533\n",
      "*********************************************\n",
      "Classification report:\n",
      "               precision    recall  f1-score   support\n",
      "\n",
      "           0       0.78      0.87      0.82       150\n",
      "           1       0.69      0.54      0.61        81\n",
      "\n",
      "    accuracy                           0.75       231\n",
      "   macro avg       0.73      0.70      0.71       231\n",
      "weighted avg       0.75      0.75      0.75       231\n",
      "\n"
     ]
    }
   ],
   "source": [
    "# Testing data\n",
    "cnf_matrix = confusion_matrix(y_test, y_pred)\n",
    "print(\"Confusion Matrix:\\n\",cnf_matrix)\n",
    "\n",
    "print(\"*\"*45)\n",
    "accuracy = accuracy_score(y_test, y_pred)\n",
    "print(\"Accuracy Score:\",accuracy)\n",
    "print(\"*\"*45)\n",
    "\n",
    "clf_report = classification_report(y_test, y_pred)\n",
    "print(\"Classification report:\\n\",clf_report)"
   ]
  },
  {
   "cell_type": "code",
   "execution_count": 56,
   "id": "87c35bff",
   "metadata": {},
   "outputs": [
    {
     "name": "stdout",
     "output_type": "stream",
     "text": [
      "Confusion Matrix:\n",
      " [[310  40]\n",
      " [ 75 112]]\n",
      "*********************************************\n",
      "Accuracy Score: 0.7858472998137802\n",
      "*********************************************\n",
      "Classification report:\n",
      "               precision    recall  f1-score   support\n",
      "\n",
      "           0       0.81      0.89      0.84       350\n",
      "           1       0.74      0.60      0.66       187\n",
      "\n",
      "    accuracy                           0.79       537\n",
      "   macro avg       0.77      0.74      0.75       537\n",
      "weighted avg       0.78      0.79      0.78       537\n",
      "\n"
     ]
    }
   ],
   "source": [
    "# Training data\n",
    "\n",
    "# prediction\n",
    "y_pred_train = dibetes_model.predict(x_train)\n",
    "\n",
    "cnf_matrix = confusion_matrix(y_train, y_pred_train)\n",
    "print(\"Confusion Matrix:\\n\",cnf_matrix)\n",
    "\n",
    "# Visualization\n",
    "\n",
    "print(\"*\"*45)\n",
    "accuracy = accuracy_score(y_train, y_pred_train)\n",
    "print(\"Accuracy Score:\",accuracy)\n",
    "print(\"*\"*45)\n",
    "\n",
    "clf_report = classification_report(y_train, y_pred_train)\n",
    "print(\"Classification report:\\n\",clf_report)"
   ]
  },
  {
   "cell_type": "markdown",
   "id": "b753ac7e",
   "metadata": {},
   "source": [
    "# AUC-ROC Curve"
   ]
  },
  {
   "cell_type": "code",
   "execution_count": 57,
   "id": "2d0218ae",
   "metadata": {},
   "outputs": [
    {
     "data": {
      "text/plain": [
       "array([0.20609744, 0.15549715, 0.34876801, 0.05039977, 0.17634921,\n",
       "       0.11575386, 0.87689796, 0.02648374, 0.49579053, 0.57477474,\n",
       "       0.87569271, 0.02505671, 0.80415653, 0.20686136, 0.12723529,\n",
       "       0.15484282, 0.71848799, 0.15081379, 0.14006987, 0.2785067 ,\n",
       "       0.50390618, 0.09076922, 0.17337705, 0.88256303, 0.55694829,\n",
       "       0.03856207, 0.16915303, 0.66796442, 0.12769082, 0.04868989,\n",
       "       0.12146579, 0.083898  , 0.54329068, 0.45588137, 0.31775928,\n",
       "       0.50213572, 0.74654128, 0.41900333, 0.18776224, 0.13108071,\n",
       "       0.08050914, 0.10688806, 0.25275012, 0.03834063, 0.17391733,\n",
       "       0.62210453, 0.59270656, 0.07120945, 0.18146741, 0.2205334 ,\n",
       "       0.03298492, 0.26490848, 0.19804194, 0.7079806 , 0.31835598,\n",
       "       0.69301766, 0.07928032, 0.23750428, 0.03266068, 0.23873771,\n",
       "       0.08955514, 0.39130282, 0.43364449, 0.29915235, 0.63992517,\n",
       "       0.43028   , 0.25636273, 0.17073203, 0.51261946, 0.04441424,\n",
       "       0.29899209, 0.7383826 , 0.06357233, 0.55803027, 0.8446202 ,\n",
       "       0.08838151, 0.44723514, 0.35721297, 0.14788773, 0.14546068,\n",
       "       0.27832723, 0.56099189, 0.92281979, 0.05031679, 0.28805237,\n",
       "       0.66866009, 0.29281873, 0.25541054, 0.17559999, 0.05308215,\n",
       "       0.02831312, 0.54003007, 0.12822715, 0.4293534 , 0.69016706,\n",
       "       0.28483402, 0.12968298, 0.96074414, 0.07129227, 0.16879924,\n",
       "       0.1096976 , 0.23213029, 0.27954867, 0.86494358, 0.06350736,\n",
       "       0.43921011, 0.03723356, 0.36279721, 0.20865995, 0.21741363,\n",
       "       0.07539179, 0.29362649, 0.07232057, 0.46107479, 0.27430418,\n",
       "       0.07697046, 0.13788921, 0.16858276, 0.41809303, 0.6603823 ,\n",
       "       0.09854139, 0.97649422, 0.13149141, 0.20955398, 0.22509513,\n",
       "       0.17280737, 0.27712245, 0.36140937, 0.39694518, 0.39912404,\n",
       "       0.26977583, 0.58497908, 0.11964671, 0.96308108, 0.66728306,\n",
       "       0.63938556, 0.49616427, 0.05522037, 0.2386714 , 0.43510081,\n",
       "       0.77496431, 0.82359836, 0.32999493, 0.64969251, 0.20833817,\n",
       "       0.69003954, 0.27300253, 0.05602448, 0.25195666, 0.03788289,\n",
       "       0.01030574, 0.25596427, 0.69917794, 0.91642929, 0.11005421,\n",
       "       0.08037019, 0.25772977, 0.13149122, 0.03209098, 0.0971398 ,\n",
       "       0.87612276, 0.57361193, 0.28477017, 0.42784859, 0.53890386,\n",
       "       0.10734717, 0.88361693, 0.37620486, 0.03459098, 0.33035409,\n",
       "       0.20423081, 0.0559155 , 0.89378887, 0.08065356, 0.1719021 ,\n",
       "       0.06987689, 0.03201464, 0.30298208, 0.73594516, 0.0559492 ,\n",
       "       0.23092445, 0.03130629, 0.27484283, 0.01103553, 0.02749854,\n",
       "       0.17356942, 0.52278271, 0.06100119, 0.18164397, 0.67552948,\n",
       "       0.55309447, 0.26996896, 0.80270384, 0.41326908, 0.72371631,\n",
       "       0.0479284 , 0.81550984, 0.17452291, 0.1215062 , 0.0488463 ,\n",
       "       0.20682706, 0.13460182, 0.03265844, 0.03326393, 0.39173051,\n",
       "       0.18276675, 0.12076579, 0.79763834, 0.11612848, 0.4569436 ,\n",
       "       0.16753634, 0.70911229, 0.16495556, 0.06647092, 0.14616702,\n",
       "       0.90232924, 0.1701193 , 0.15706137, 0.24285986, 0.32332993,\n",
       "       0.09523014, 0.11764129, 0.09553498, 0.06186913, 0.65424062,\n",
       "       0.03717261, 0.41326394, 0.1041561 , 0.03980772, 0.09692564,\n",
       "       0.07748745, 0.10320008, 0.11731245, 0.65294879, 0.0835553 ,\n",
       "       0.80731901, 0.09854278, 0.05494733, 0.64052108, 0.10639445,\n",
       "       0.44712087, 0.10643263, 0.69696635, 0.03689619, 0.17377452,\n",
       "       0.51736965, 0.71732081, 0.13366886, 0.33081071, 0.46293473,\n",
       "       0.11422596, 0.27573871, 0.49006774, 0.39048524, 0.08722505,\n",
       "       0.85037399, 0.01918343, 0.31438746, 0.82257477, 0.28625833,\n",
       "       0.11144241, 0.48432637, 0.08461608, 0.02855911, 0.26204095,\n",
       "       0.13115336, 0.17677575, 0.09273435, 0.78889073, 0.4173588 ,\n",
       "       0.65214253, 0.0221798 , 0.09638223, 0.48081619, 0.08697696,\n",
       "       0.18176284, 0.29659646, 0.81951592, 0.22507523, 0.39989554,\n",
       "       0.06632034, 0.79106927, 0.08194901, 0.08774523, 0.88658529,\n",
       "       0.26311934, 0.86892041, 0.94607933, 0.22393444, 0.85719972,\n",
       "       0.26466155, 0.92363599, 0.67404809, 0.33379593, 0.3754024 ,\n",
       "       0.05967431, 0.8386541 , 0.71392916, 0.080022  , 0.27916393,\n",
       "       0.12728461, 0.41867074, 0.07344436, 0.32952067, 0.25571762,\n",
       "       0.11947338, 0.12164384, 0.49523196, 0.07535281, 0.91311926,\n",
       "       0.07661078, 0.66587529, 0.93345459, 0.19275518, 0.49759856,\n",
       "       0.7139011 , 0.8721188 , 0.37301971, 0.78594105, 0.34694096,\n",
       "       0.15809863, 0.09600149, 0.41371678, 0.1506054 , 0.09198313,\n",
       "       0.4724919 , 0.41543649, 0.03851603, 0.35573653, 0.09633494,\n",
       "       0.21515464, 0.06024347, 0.31977371, 0.28410931, 0.21137131,\n",
       "       0.18920202, 0.03445073, 0.7930696 , 0.66029315, 0.10719872,\n",
       "       0.49247894, 0.22328809, 0.48950782, 0.14720601, 0.07553365,\n",
       "       0.06778761, 0.05383006, 0.65663938, 0.57482206, 0.18005026,\n",
       "       0.05542656, 0.33614514, 0.10746586, 0.61553109, 0.52546408,\n",
       "       0.32657553, 0.22678594, 0.24905248, 0.5621989 , 0.81773363,\n",
       "       0.23030538, 0.02314247, 0.78143793, 0.63909392, 0.03209122,\n",
       "       0.40662662, 0.50378732, 0.13373353, 0.09126656, 0.3925502 ,\n",
       "       0.32638961, 0.27036555, 0.24413553, 0.82536402, 0.86602771,\n",
       "       0.11447844, 0.0927445 , 0.21849177, 0.76134015, 0.86067563,\n",
       "       0.39583986, 0.50540696, 0.01592019, 0.06010296, 0.1848264 ,\n",
       "       0.34150715, 0.4620386 , 0.57110952, 0.09339139, 0.57780676,\n",
       "       0.15784782, 0.10443593, 0.63571073, 0.23769614, 0.37766081,\n",
       "       0.37561816, 0.20099924, 0.96491769, 0.41854706, 0.54056984,\n",
       "       0.07607133, 0.87058979, 0.15017339, 0.04748173, 0.31245871,\n",
       "       0.04901724, 0.05906543, 0.35560885, 0.39669099, 0.13498134,\n",
       "       0.57670886, 0.85265693, 0.14812668, 0.15250824, 0.78757285,\n",
       "       0.92886978, 0.04906126, 0.67933446, 0.1515808 , 0.89649478,\n",
       "       0.01613813, 0.71859582, 0.11355625, 0.27128723, 0.04429843,\n",
       "       0.26821263, 0.11276065, 0.23987845, 0.20783498, 0.35554169,\n",
       "       0.75396416, 0.2867151 , 0.09958914, 0.16078468, 0.83349975,\n",
       "       0.76164945, 0.30259219, 0.27824887, 0.71388361, 0.05289054,\n",
       "       0.22955872, 0.11725102, 0.82280128, 0.12192524, 0.31772899,\n",
       "       0.52232127, 0.30824702, 0.58283371, 0.08533797, 0.26779065,\n",
       "       0.01722901, 0.1027325 , 0.62331879, 0.36554578, 0.31639899,\n",
       "       0.29963684, 0.01288781, 0.22734632, 0.89792773, 0.85069689,\n",
       "       0.43186319, 0.04782448, 0.36875485, 0.32452698, 0.22626753,\n",
       "       0.83547341, 0.72925051, 0.95964987, 0.04957775, 0.94216568,\n",
       "       0.11034196, 0.39796753, 0.2793023 , 0.03824882, 0.4163394 ,\n",
       "       0.41339247, 0.97617303, 0.58039735, 0.22076996, 0.54980928,\n",
       "       0.83005951, 0.13207831, 0.70336724, 0.30008724, 0.08941698,\n",
       "       0.87008144, 0.62523883, 0.12460223, 0.10740059, 0.22823398,\n",
       "       0.0338764 , 0.50492451, 0.16281525, 0.06609511, 0.766289  ,\n",
       "       0.5538571 , 0.01519451, 0.21577894, 0.14315864, 0.56655609,\n",
       "       0.14131593, 0.81504233, 0.70338559, 0.91004538, 0.77055407,\n",
       "       0.69628077, 0.81259376, 0.33781277, 0.22240734, 0.6951953 ,\n",
       "       0.65055097, 0.07702232, 0.16404906, 0.16494578, 0.4219862 ,\n",
       "       0.09770317, 0.35186071, 0.50259458, 0.25761904, 0.04915488,\n",
       "       0.16160649, 0.05965894, 0.92350399, 0.79708797, 0.11065493,\n",
       "       0.75058175, 0.35172034, 0.76211636, 0.27619235, 0.45167404,\n",
       "       0.65465233, 0.2208057 , 0.20643182, 0.36228281, 0.57071495,\n",
       "       0.06878404, 0.61316054])"
      ]
     },
     "execution_count": 57,
     "metadata": {},
     "output_type": "execute_result"
    }
   ],
   "source": [
    "# prediction probability\n",
    "y_pred_proba = dibetes_model.predict_proba(x_train)\n",
    "y_pred_proba[:,1]  # We are getting class 1 probability"
   ]
  },
  {
   "cell_type": "code",
   "execution_count": 58,
   "id": "5f5e4af6",
   "metadata": {},
   "outputs": [],
   "source": [
    "fpr, tpr, thresh = roc_curve(y_train, y_pred_proba[:,1])"
   ]
  },
  {
   "cell_type": "code",
   "execution_count": 59,
   "id": "43682dee",
   "metadata": {},
   "outputs": [
    {
     "data": {
      "text/plain": [
       "Text(0.5, 1.0, 'Reciever Operating Characteristics')"
      ]
     },
     "execution_count": 59,
     "metadata": {},
     "output_type": "execute_result"
    },
    {
     "data": {
      "image/png": "[encoded data removed]",
      "text/plain": [
       "<Figure size 640x480 with 1 Axes>"
      ]
     },
     "metadata": {},
     "output_type": "display_data"
    }
   ],
   "source": [
    "# Plot AUC-ROC\n",
    "plt.plot(fpr,tpr)\n",
    "plt.xlabel(\"False Positive Rate -->\")\n",
    "plt.ylabel(\"True Positive Rate -->\")\n",
    "plt.title(\"Reciever Operating Characteristics\")"
   ]
  },
  {
   "cell_type": "markdown",
   "id": "1947fa40",
   "metadata": {},
   "source": [
    "# Training on single row"
   ]
  },
  {
   "cell_type": "code",
   "execution_count": 60,
   "id": "a4af1ba2",
   "metadata": {},
   "outputs": [
    {
     "data": {
      "text/html": [
       "<div>\n",
       "<style scoped>\n",
       "    .dataframe tbody tr th:only-of-type {\n",
       "        vertical-align: middle;\n",
       "    }\n",
       "\n",
       "    .dataframe tbody tr th {\n",
       "        vertical-align: top;\n",
       "    }\n",
       "\n",
       "    .dataframe thead th {\n",
       "        text-align: right;\n",
       "    }\n",
       "</style>\n",
       "<table border=\"1\" class=\"dataframe\">\n",
       "  <thead>\n",
       "    <tr style=\"text-align: right;\">\n",
       "      <th></th>\n",
       "      <th>0</th>\n",
       "    </tr>\n",
       "  </thead>\n",
       "  <tbody>\n",
       "    <tr>\n",
       "      <th>Glucose</th>\n",
       "      <td>148.000</td>\n",
       "    </tr>\n",
       "    <tr>\n",
       "      <th>BloodPressure</th>\n",
       "      <td>50.000</td>\n",
       "    </tr>\n",
       "    <tr>\n",
       "      <th>SkinThickness</th>\n",
       "      <td>35.000</td>\n",
       "    </tr>\n",
       "    <tr>\n",
       "      <th>Insulin</th>\n",
       "      <td>0.000</td>\n",
       "    </tr>\n",
       "    <tr>\n",
       "      <th>BMI</th>\n",
       "      <td>33.600</td>\n",
       "    </tr>\n",
       "    <tr>\n",
       "      <th>DiabetesPedigreeFunction</th>\n",
       "      <td>0.627</td>\n",
       "    </tr>\n",
       "    <tr>\n",
       "      <th>Age</th>\n",
       "      <td>50.000</td>\n",
       "    </tr>\n",
       "  </tbody>\n",
       "</table>\n",
       "</div>"
      ],
      "text/plain": [
       "                                0\n",
       "Glucose                   148.000\n",
       "BloodPressure              50.000\n",
       "SkinThickness              35.000\n",
       "Insulin                     0.000\n",
       "BMI                        33.600\n",
       "DiabetesPedigreeFunction    0.627\n",
       "Age                        50.000"
      ]
     },
     "execution_count": 60,
     "metadata": {},
     "output_type": "execute_result"
    }
   ],
   "source": [
    "x.head(1).T"
   ]
  },
  {
   "cell_type": "code",
   "execution_count": 61,
   "id": "8ea502e1",
   "metadata": {},
   "outputs": [
    {
     "data": {
      "text/plain": [
       "(7, 1)"
      ]
     },
     "execution_count": 61,
     "metadata": {},
     "output_type": "execute_result"
    }
   ],
   "source": [
    "x.head(1).T.shape"
   ]
  },
  {
   "cell_type": "code",
   "execution_count": 62,
   "id": "cd3ad839",
   "metadata": {},
   "outputs": [
    {
     "name": "stdout",
     "output_type": "stream",
     "text": [
      "Index(['Glucose', 'BloodPressure', 'SkinThickness', 'Insulin', 'BMI',\n",
      "       'DiabetesPedigreeFunction', 'Age'],\n",
      "      dtype='object')\n"
     ]
    }
   ],
   "source": [
    "columns = x.columns\n",
    "print(columns)"
   ]
  },
  {
   "cell_type": "code",
   "execution_count": 63,
   "id": "e236707b",
   "metadata": {},
   "outputs": [
    {
     "data": {
      "text/plain": [
       "7"
      ]
     },
     "execution_count": 63,
     "metadata": {},
     "output_type": "execute_result"
    }
   ],
   "source": [
    "len(columns)"
   ]
  },
  {
   "cell_type": "code",
   "execution_count": 68,
   "id": "0654317e",
   "metadata": {},
   "outputs": [],
   "source": [
    "# user intput\n",
    "Glucose = 170\n",
    "BloodPressure= 60\n",
    "SkinThickness = 40\n",
    "Insulin =1.5\n",
    "BMI = 22.5\n",
    "DiabetesPedigreeFunction = 0.62\n",
    "Age = 45\n"
   ]
  },
  {
   "cell_type": "code",
   "execution_count": 69,
   "id": "711a203c",
   "metadata": {},
   "outputs": [
    {
     "data": {
      "text/plain": [
       "Index(['Glucose', 'BloodPressure', 'SkinThickness', 'Insulin', 'BMI',\n",
       "       'DiabetesPedigreeFunction', 'Age'],\n",
       "      dtype='object')"
      ]
     },
     "execution_count": 69,
     "metadata": {},
     "output_type": "execute_result"
    }
   ],
   "source": [
    "columns"
   ]
  },
  {
   "cell_type": "code",
   "execution_count": 70,
   "id": "ff324b0e",
   "metadata": {},
   "outputs": [
    {
     "data": {
      "text/plain": [
       "array([0, 0, 0, 0, 0, 0, 0])"
      ]
     },
     "execution_count": 70,
     "metadata": {},
     "output_type": "execute_result"
    }
   ],
   "source": [
    "array = np.zeros(columns.shape[0],dtype = int)\n",
    "array"
   ]
  },
  {
   "cell_type": "code",
   "execution_count": 71,
   "id": "70405774",
   "metadata": {},
   "outputs": [
    {
     "data": {
      "text/plain": [
       "7"
      ]
     },
     "execution_count": 71,
     "metadata": {},
     "output_type": "execute_result"
    }
   ],
   "source": [
    "len(columns)"
   ]
  },
  {
   "cell_type": "code",
   "execution_count": 72,
   "id": "cf764078",
   "metadata": {},
   "outputs": [
    {
     "data": {
      "text/plain": [
       "array([170,  60,  40,   1,  22,   0,  45])"
      ]
     },
     "execution_count": 72,
     "metadata": {},
     "output_type": "execute_result"
    }
   ],
   "source": [
    "array = np.zeros(columns.shape[0],dtype = int)\n",
    "array[0] = Glucose\n",
    "array[1] = BloodPressure\n",
    "array[2] = SkinThickness\n",
    "array[3] = Insulin\n",
    "array[4] = BMI\n",
    "array[5] = DiabetesPedigreeFunction\n",
    "array[6] = Age\n",
    "array"
   ]
  },
  {
   "cell_type": "code",
   "execution_count": 73,
   "id": "562a42e4",
   "metadata": {},
   "outputs": [
    {
     "name": "stdout",
     "output_type": "stream",
     "text": [
      "The patient has no symptoms of diabetes,he is well.\n"
     ]
    }
   ],
   "source": [
    "dibetes_prediction = loan_model.predict([array])[0]\n",
    "if dibetes_prediction == 0:\n",
    "    print('The patient has no symptoms of diabetes,he is well.')\n",
    "else:\n",
    "    print('The patient has symptoms of diabetes,he should seek treatment.')"
   ]
  },
  {
   "cell_type": "code",
   "execution_count": 74,
   "id": "a7016e54",
   "metadata": {
    "scrolled": true
   },
   "outputs": [
    {
     "data": {
      "text/plain": [
       "{'columns': ['Glucose',\n",
       "  'BloodPressure',\n",
       "  'SkinThickness',\n",
       "  'Insulin',\n",
       "  'BMI',\n",
       "  'DiabetesPedigreeFunction',\n",
       "  'Age']}"
      ]
     },
     "execution_count": 74,
     "metadata": {},
     "output_type": "execute_result"
    }
   ],
   "source": [
    "# store all this column is json \n",
    "dibetes_data  = {\"columns\":list(columns)}\n",
    "dibetes_data"
   ]
  },
  {
   "cell_type": "code",
   "execution_count": 75,
   "id": "eb93fad6",
   "metadata": {},
   "outputs": [],
   "source": [
    "import json\n",
    "\n",
    "with open(\"dibetes_data.json\", \"w\") as f:\n",
    "    json.dump(dibetes_data, f)"
   ]
  },
  {
   "cell_type": "code",
   "execution_count": 76,
   "id": "e944239a",
   "metadata": {},
   "outputs": [],
   "source": [
    "# Save Model in Pickle File\n",
    "import pickle\n",
    "\n",
    "with open(\"dibetes_model.pkl\", \"wb\") as f:\n",
    "    pickle.dump(dibetes_model, f)"
   ]
  }
 ],
 "metadata": {
  "kernelspec": {
   "display_name": "Python 3 (ipykernel)",
   "language": "python",
   "name": "python3"
  },
  "language_info": {
   "codemirror_mode": {
    "name": "ipython",
    "version": 3
   },
   "file_extension": ".py",
   "mimetype": "text/x-python",
   "name": "python",
   "nbconvert_exporter": "python",
   "pygments_lexer": "ipython3",
   "version": "3.10.5"
  }
 },
 "nbformat": 4,
 "nbformat_minor": 5
}
